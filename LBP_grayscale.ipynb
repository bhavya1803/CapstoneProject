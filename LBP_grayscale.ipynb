{
  "cells": [
    {
      "cell_type": "code",
      "source": [
        "!pip install numba\n",
        "!find / -iname 'libdevice'\n",
        "!find / -iname 'libnvvm.so'\n",
        "!pip install mahotas"
      ],
      "metadata": {
        "colab": {
          "base_uri": "https://localhost:8080/"
        },
        "id": "bXcmOx1sL6J5",
        "outputId": "e8410c93-2958-4298-968e-ac244500ef1b"
      },
      "execution_count": null,
      "outputs": [
        {
          "output_type": "stream",
          "name": "stdout",
          "text": [
            "Looking in indexes: https://pypi.org/simple, https://us-python.pkg.dev/colab-wheels/public/simple/\n",
            "Requirement already satisfied: numba in /usr/local/lib/python3.8/dist-packages (0.56.4)\n",
            "Requirement already satisfied: llvmlite<0.40,>=0.39.0dev0 in /usr/local/lib/python3.8/dist-packages (from numba) (0.39.1)\n",
            "Requirement already satisfied: importlib-metadata in /usr/local/lib/python3.8/dist-packages (from numba) (6.0.0)\n",
            "Requirement already satisfied: numpy<1.24,>=1.18 in /usr/local/lib/python3.8/dist-packages (from numba) (1.21.6)\n",
            "Requirement already satisfied: setuptools in /usr/local/lib/python3.8/dist-packages (from numba) (57.4.0)\n",
            "Requirement already satisfied: zipp>=0.5 in /usr/local/lib/python3.8/dist-packages (from importlib-metadata->numba) (3.12.0)\n",
            "/usr/local/lib/python3.8/dist-packages/jaxlib/cuda/nvvm/libdevice\n",
            "/usr/local/cuda-11.2/nvvm/libdevice\n",
            "/usr/local/cuda-11.2/nvvm-prev/libdevice\n",
            "find: ‘/proc/60/task/60/net’: Invalid argument\n",
            "find: ‘/proc/60/net’: Invalid argument\n",
            "/usr/local/cuda-11.2/nvvm/lib64/libnvvm.so\n",
            "/usr/local/cuda-11.2/nvvm-prev/lib64/libnvvm.so\n",
            "find: ‘/proc/60/task/60/net’: Invalid argument\n",
            "find: ‘/proc/60/net’: Invalid argument\n",
            "Looking in indexes: https://pypi.org/simple, https://us-python.pkg.dev/colab-wheels/public/simple/\n",
            "Collecting mahotas\n",
            "  Downloading mahotas-1.4.13-cp38-cp38-manylinux_2_12_x86_64.manylinux2010_x86_64.whl (5.5 MB)\n",
            "\u001b[2K     \u001b[90m━━━━━━━━━━━━━━━━━━━━━━━━━━━━━━━━━━━━━━━━\u001b[0m \u001b[32m5.5/5.5 MB\u001b[0m \u001b[31m43.5 MB/s\u001b[0m eta \u001b[36m0:00:00\u001b[0m\n",
            "\u001b[?25hRequirement already satisfied: numpy in /usr/local/lib/python3.8/dist-packages (from mahotas) (1.21.6)\n",
            "Installing collected packages: mahotas\n",
            "Successfully installed mahotas-1.4.13\n"
          ]
        }
      ]
    },
    {
      "cell_type": "code",
      "source": [
        "#Loading part\n",
        "from pydrive.auth import GoogleAuth\n",
        "from pydrive.drive import GoogleDrive\n",
        "from google.colab import auth\n",
        "from oauth2client.client import GoogleCredentials\n",
        "auth.authenticate_user()\n",
        "gauth = GoogleAuth()\n",
        "gauth.credentials = GoogleCredentials.get_application_default()\n",
        "drive = GoogleDrive(gauth)\n",
        " \n",
        "downloaded = drive.CreateFile({'id': '1pQxX_uzZFz2p07c5BCbrlfRKXVcCxV60'})   # replace the id with id of file you want to access\n",
        "downloaded.GetContentFile('ExtractedRGBOulu_NPU.zip')        # replace the file name with your file\n",
        "!unzip ExtractedRGBOulu_NPU"
      ],
      "metadata": {
        "colab": {
          "base_uri": "https://localhost:8080/",
          "height": 381
        },
        "id": "4zXN1NQmO84z",
        "outputId": "dd806ff9-0e6c-463e-e542-29a60b12a098"
      },
      "execution_count": null,
      "outputs": [
        {
          "output_type": "error",
          "ename": "MessageError",
          "evalue": "ignored",
          "traceback": [
            "\u001b[0;31m---------------------------------------------------------------------------\u001b[0m",
            "\u001b[0;31mMessageError\u001b[0m                              Traceback (most recent call last)",
            "\u001b[0;32m<ipython-input-1-c43596a298d6>\u001b[0m in \u001b[0;36m<module>\u001b[0;34m\u001b[0m\n\u001b[1;32m      4\u001b[0m \u001b[0;32mfrom\u001b[0m \u001b[0mgoogle\u001b[0m\u001b[0;34m.\u001b[0m\u001b[0mcolab\u001b[0m \u001b[0;32mimport\u001b[0m \u001b[0mauth\u001b[0m\u001b[0;34m\u001b[0m\u001b[0;34m\u001b[0m\u001b[0m\n\u001b[1;32m      5\u001b[0m \u001b[0;32mfrom\u001b[0m \u001b[0moauth2client\u001b[0m\u001b[0;34m.\u001b[0m\u001b[0mclient\u001b[0m \u001b[0;32mimport\u001b[0m \u001b[0mGoogleCredentials\u001b[0m\u001b[0;34m\u001b[0m\u001b[0;34m\u001b[0m\u001b[0m\n\u001b[0;32m----> 6\u001b[0;31m \u001b[0mauth\u001b[0m\u001b[0;34m.\u001b[0m\u001b[0mauthenticate_user\u001b[0m\u001b[0;34m(\u001b[0m\u001b[0;34m)\u001b[0m\u001b[0;34m\u001b[0m\u001b[0;34m\u001b[0m\u001b[0m\n\u001b[0m\u001b[1;32m      7\u001b[0m \u001b[0mgauth\u001b[0m \u001b[0;34m=\u001b[0m \u001b[0mGoogleAuth\u001b[0m\u001b[0;34m(\u001b[0m\u001b[0;34m)\u001b[0m\u001b[0;34m\u001b[0m\u001b[0;34m\u001b[0m\u001b[0m\n\u001b[1;32m      8\u001b[0m \u001b[0mgauth\u001b[0m\u001b[0;34m.\u001b[0m\u001b[0mcredentials\u001b[0m \u001b[0;34m=\u001b[0m \u001b[0mGoogleCredentials\u001b[0m\u001b[0;34m.\u001b[0m\u001b[0mget_application_default\u001b[0m\u001b[0;34m(\u001b[0m\u001b[0;34m)\u001b[0m\u001b[0;34m\u001b[0m\u001b[0;34m\u001b[0m\u001b[0m\n",
            "\u001b[0;32m/usr/local/lib/python3.8/dist-packages/google/colab/auth.py\u001b[0m in \u001b[0;36mauthenticate_user\u001b[0;34m(clear_output)\u001b[0m\n\u001b[1;32m    228\u001b[0m   \u001b[0;32mif\u001b[0m \u001b[0;32mnot\u001b[0m \u001b[0m_check_adc\u001b[0m\u001b[0;34m(\u001b[0m\u001b[0m_CredentialType\u001b[0m\u001b[0;34m.\u001b[0m\u001b[0mUSER\u001b[0m\u001b[0;34m)\u001b[0m\u001b[0;34m:\u001b[0m\u001b[0;34m\u001b[0m\u001b[0;34m\u001b[0m\u001b[0m\n\u001b[1;32m    229\u001b[0m     \u001b[0;32mif\u001b[0m \u001b[0muse_auth_ephem\u001b[0m\u001b[0;34m:\u001b[0m\u001b[0;34m\u001b[0m\u001b[0;34m\u001b[0m\u001b[0m\n\u001b[0;32m--> 230\u001b[0;31m       _message.blocking_request(\n\u001b[0m\u001b[1;32m    231\u001b[0m           \u001b[0;34m'request_auth'\u001b[0m\u001b[0;34m,\u001b[0m\u001b[0;34m\u001b[0m\u001b[0;34m\u001b[0m\u001b[0m\n\u001b[1;32m    232\u001b[0m           \u001b[0mrequest\u001b[0m\u001b[0;34m=\u001b[0m\u001b[0;34m{\u001b[0m\u001b[0;34m'authType'\u001b[0m\u001b[0;34m:\u001b[0m \u001b[0;34m'auth_user_ephemeral'\u001b[0m\u001b[0;34m}\u001b[0m\u001b[0;34m,\u001b[0m\u001b[0;34m\u001b[0m\u001b[0;34m\u001b[0m\u001b[0m\n",
            "\u001b[0;32m/usr/local/lib/python3.8/dist-packages/google/colab/_message.py\u001b[0m in \u001b[0;36mblocking_request\u001b[0;34m(request_type, request, timeout_sec, parent)\u001b[0m\n\u001b[1;32m    169\u001b[0m   request_id = send_request(\n\u001b[1;32m    170\u001b[0m       request_type, request, parent=parent, expect_reply=True)\n\u001b[0;32m--> 171\u001b[0;31m   \u001b[0;32mreturn\u001b[0m \u001b[0mread_reply_from_input\u001b[0m\u001b[0;34m(\u001b[0m\u001b[0mrequest_id\u001b[0m\u001b[0;34m,\u001b[0m \u001b[0mtimeout_sec\u001b[0m\u001b[0;34m)\u001b[0m\u001b[0;34m\u001b[0m\u001b[0;34m\u001b[0m\u001b[0m\n\u001b[0m",
            "\u001b[0;32m/usr/local/lib/python3.8/dist-packages/google/colab/_message.py\u001b[0m in \u001b[0;36mread_reply_from_input\u001b[0;34m(message_id, timeout_sec)\u001b[0m\n\u001b[1;32m    100\u001b[0m         reply.get('colab_msg_id') == message_id):\n\u001b[1;32m    101\u001b[0m       \u001b[0;32mif\u001b[0m \u001b[0;34m'error'\u001b[0m \u001b[0;32min\u001b[0m \u001b[0mreply\u001b[0m\u001b[0;34m:\u001b[0m\u001b[0;34m\u001b[0m\u001b[0;34m\u001b[0m\u001b[0m\n\u001b[0;32m--> 102\u001b[0;31m         \u001b[0;32mraise\u001b[0m \u001b[0mMessageError\u001b[0m\u001b[0;34m(\u001b[0m\u001b[0mreply\u001b[0m\u001b[0;34m[\u001b[0m\u001b[0;34m'error'\u001b[0m\u001b[0;34m]\u001b[0m\u001b[0;34m)\u001b[0m\u001b[0;34m\u001b[0m\u001b[0;34m\u001b[0m\u001b[0m\n\u001b[0m\u001b[1;32m    103\u001b[0m       \u001b[0;32mreturn\u001b[0m \u001b[0mreply\u001b[0m\u001b[0;34m.\u001b[0m\u001b[0mget\u001b[0m\u001b[0;34m(\u001b[0m\u001b[0;34m'data'\u001b[0m\u001b[0;34m,\u001b[0m \u001b[0;32mNone\u001b[0m\u001b[0;34m)\u001b[0m\u001b[0;34m\u001b[0m\u001b[0;34m\u001b[0m\u001b[0m\n\u001b[1;32m    104\u001b[0m \u001b[0;34m\u001b[0m\u001b[0m\n",
            "\u001b[0;31mMessageError\u001b[0m: Error: credential propagation was unsuccessful"
          ]
        }
      ]
    },
    {
      "cell_type": "markdown",
      "source": [],
      "metadata": {
        "id": "hYsiKeoTPdy4"
      }
    },
    {
      "cell_type": "code",
      "source": [
        "import cv2\n",
        "import numpy as np\n",
        "import os\n",
        "from matplotlib import pyplot as plt\n",
        "from scipy import signal\n",
        "import scipy.io\n",
        "import math\n",
        "import sys\n",
        "import time\n",
        "from IPython.display import HTML, display\n",
        "from IPython.display import clear_output\n",
        "import PIL\n",
        "from PIL import Image\n",
        "from numba import jit, njit, vectorize, cuda, uint32, f8, uint8\n",
        "import mahotas\n",
        "import mahotas.demos\n",
        "from pylab import gray, imshow, show\n",
        "import numpy as np\n",
        "\n",
        "def getListOfFiles(dirName):\n",
        "    # create a list of file and sub directories \n",
        "    # names in the given directory \n",
        "    listOfFile = os.listdir(dirName)\n",
        "    allFiles = list()\n",
        "    # Iterate over all the entries\n",
        "    for entry in listOfFile:\n",
        "        # Create full path\n",
        "        fullPath = os.path.join(dirName, entry)\n",
        "        # If entry is a directory then get the list of files in this directory \n",
        "        if os.path.isdir(fullPath):\n",
        "            allFiles = allFiles + getListOfFiles(fullPath)\n",
        "        else:\n",
        "            allFiles.append(fullPath)            \n",
        "    return allFiles"
      ],
      "metadata": {
        "id": "UweeBE7APPFq"
      },
      "execution_count": null,
      "outputs": []
    },
    {
      "cell_type": "code",
      "source": [
        "import scipy.misc\n",
        "import numpy as np\n",
        "import matplotlib.pyplot as plt\n",
        "import torch\n",
        "import torchvision.transforms as tf\n",
        "import skimage\n",
        "import skimage.color as skcolor\n",
        "import skimage.io as skio\n",
        "from PIL import Image\n",
        "import cv2\n",
        "import numpy as np\n",
        "from skimage.io import imread\n",
        "from skimage.color import rgb2lab, lab2rgb\n",
        "import matplotlib.pylab as plt"
      ],
      "metadata": {
        "id": "Nqjhmbc9RTVQ"
      },
      "execution_count": null,
      "outputs": []
    },
    {
      "cell_type": "code",
      "source": [
        "def show(im):\n",
        "    plt.imshow(im)\n",
        "    plt.show()\n",
        "    "
      ],
      "metadata": {
        "id": "lneXGNNRSvhM"
      },
      "execution_count": null,
      "outputs": []
    },
    {
      "cell_type": "code",
      "source": [
        "def rgb2grayscale(im):\n",
        "    xform = np.array([[.299, .587, .114], [-.1687, -.3313, .5], [.5, -.4187, -.0813]])\n",
        "    grayscale = im.dot(xform.T)\n",
        "    grayscale[:,:,[1,2]] += 128\n",
        "    return np.uint8(grayscale)"
      ],
      "metadata": {
        "id": "wDpuz43hSzYJ"
      },
      "execution_count": null,
      "outputs": []
    },
    {
      "cell_type": "code",
      "source": [
        "import cv2\n",
        "import numpy as np\n",
        "from matplotlib import pyplot as plt\n",
        "\n",
        "from numba import int32, float32    # import the types\n",
        "from numba.experimental import jitclass\n",
        "\n",
        "\n",
        "class Human:\n",
        "\n",
        "    \n",
        "    def __init__(self):\n",
        "        self.img = 0\n",
        "    \n",
        "    \n",
        "    def get_pixel(img, center, x, y):\n",
        "\n",
        "        new_value = 0\n",
        "\n",
        "        try:\n",
        "            # If local neighbourhood pixel\n",
        "            # value is greater than or equal\n",
        "            # to center pixel values then\n",
        "            # set it to 1\n",
        "            if img[x][y] >= center:\n",
        "                new_value = 1\n",
        "\n",
        "        except:\n",
        "            # Exception is required when\n",
        "            # neighbourhood value of a center\n",
        "            # pixel value is null i.e. values\n",
        "            # present at boundaries.\n",
        "            pass\n",
        "\n",
        "        return new_value\n",
        "\n",
        "    # Function for calculating LBP\n",
        "    \n",
        "    def lbp_calculated_pixel8(img, x, y):\n",
        "\n",
        "        center = img[x][y]\n",
        "\n",
        "        val_ar = []\n",
        "\n",
        "        # top_left\n",
        "        val_ar.append(Human.get_pixel(img, center, x - 1, y - 1))\n",
        "\n",
        "        # top\n",
        "        val_ar.append(Human.get_pixel(img, center, x - 1, y))\n",
        "\n",
        "        # top_right\n",
        "        val_ar.append(Human.get_pixel(img, center, x - 1, y + 1))\n",
        "\n",
        "        # right\n",
        "        val_ar.append(Human.get_pixel(img, center, x, y + 1))\n",
        "\n",
        "        # bottom_right\n",
        "        val_ar.append(Human.get_pixel(img, center, x + 1, y + 1))\n",
        "\n",
        "        # bottom\n",
        "        val_ar.append(Human.get_pixel(img, center, x + 1, y))\n",
        "\n",
        "        # bottom_left\n",
        "        val_ar.append(Human.get_pixel(img, center, x + 1, y - 1))\n",
        "\n",
        "        # left\n",
        "        val_ar.append(Human.get_pixel(img, center, x, y - 1))\n",
        "\n",
        "        # Now, we need to convert binary\n",
        "        # values to decimal\n",
        "        power_val = [1, 2, 4, 8, 16, 32, 64, 128]\n",
        "\n",
        "        val = 0\n",
        "\n",
        "        for i in range(len(val_ar)):\n",
        "            val += val_ar[i] * power_val[i]\n",
        "\n",
        "        return val\n",
        "\n",
        "    \n",
        "    def rgblbp(self, img):\n",
        "\n",
        "        # Reading the BGR image using imread() function\n",
        "\n",
        "        strr = img\n",
        "\n",
        "        image = cv2.imread(img)\n",
        "        height, width, xx = image.shape\n",
        "        img_gray = cv2.cvtColor(image,cv2.COLOR_BGR2GRAY)\n",
        "\n",
        "        # Splitting the channels first to generate different\n",
        "        # single\n",
        "\n",
        "        # channels for merging as we don't have separate\n",
        "        # channel images\n",
        "       \n",
        "        img_lbp = np.zeros((height, width), np.uint8)\n",
        "\n",
        "        # # Displaying Blue channel image\n",
        "        # cv2.imshow(\"Model Blue Image\", b)\n",
        "\n",
        "        # # Displaying Green channel image\n",
        "        # cv2.imshow(\"Model Green Image\", g)\n",
        "\n",
        "        # # Displaying Red channel image\n",
        "        # cv2.imshow(\"Model Red Image\", r)\n",
        "\n",
        "        # Using cv2.merge() to merge Red, Green, Blue Channels\n",
        "\n",
        "        for i in range(0, height):\n",
        "            for j in range(0, width):\n",
        "                img_lbp[i, j] = Human.lbp_calculated_pixel8(img_gray, i, j)\n",
        "\n",
        "        path = '/content/GRY_LBP/dev'\n",
        "        # path = 'D:/OpenCV/Scripts/Images'\n",
        "        directory = r'/content/GRY_LBP/dev'\n",
        "        os.chdir(directory)\n",
        "        cv2.imwrite(strr[34:], img_lbp)\n",
        "#         cv2.waitKey(0)\n",
        "\n",
        "        \n",
        "        # cv2.imwrite(os.path.join(path , img[36:44]), image_merge)\n",
        "        # cv2.waitKey(0)\n",
        "\n",
        "        # save in folder dor radius=1,8 nbr\n",
        "\n",
        "\n",
        "\n",
        "        # plt.imshow(image_merge)\n",
        "\n",
        "\n",
        "        # for 16\n",
        "\n",
        "        # print(\"for 16 neighbour\")\n",
        "        # print(\"..............................................................\")\n",
        "\n",
        "        # # 3 blank rgb\n",
        "        # img_lbpr = np.zeros((height, width), np.uint8)\n",
        "        # img_lbpg = np.zeros((height, width), np.uint8)\n",
        "        # img_lbpb = np.zeros((height, width), np.uint8)\n",
        "\n",
        "        # for i in range(0, height):\n",
        "        #     for j in range(0, width):\n",
        "        #         img_lbpr[i, j] = Human.lbp_calculated_pixel8(r, i, j)\n",
        "        #         img_lbpg[i, j] = Human.lbp_calculated_pixel8(g, i, j)\n",
        "        #         img_lbpb[i, j] = Human.lbp_calculated_pixel8(b, i, j)\n",
        "\n",
        "        # # into a coloured/multi-channeled image\n",
        "        # image_merge = cv2.merge([img_lbpr, img_lbpg, img_lbpb])\n",
        "\n",
        "        # plt.imshow(image_merge)\n",
        "        # print(\"for 16 neighbour\")\n",
        "        # print(\"..............................................................\")\n",
        "\n",
        "\n",
        "        # Displaying Merged RGB image\n",
        "\n",
        "        # cv2.imshow(\"RGB_Image\", image_merge)\n",
        "\n",
        "        # # Waits for user to press any key\n",
        "        # cv2.waitKey(0)\n",
        "\n",
        "\n",
        "human = Human()"
      ],
      "metadata": {
        "id": "EYPuHpLNTABP"
      },
      "execution_count": null,
      "outputs": []
    },
    {
      "cell_type": "code",
      "source": [
        "path_list = getListOfFiles(\"/content/ExtractedRGBOulu_NPU/dev\")\n",
        "\n",
        "# len(path_list)\n",
        "for i in path_list:\n",
        "  human.rgblbp(i)"
      ],
      "metadata": {
        "id": "JjrZcj40YVby"
      },
      "execution_count": null,
      "outputs": []
    },
    {
      "cell_type": "code",
      "source": [
        "!zip -r /content/dev.zip /content/dev\n",
        "from google.colab import files\n",
        "files.download(\"/content/dev.zip\")"
      ],
      "metadata": {
        "id": "_6vT80axYyGO"
      },
      "execution_count": null,
      "outputs": []
    },
    {
      "cell_type": "code",
      "source": [],
      "metadata": {
        "id": "DjtMCyE8Zubr"
      },
      "execution_count": null,
      "outputs": []
    }
  ],
  "metadata": {
    "colab": {
      "provenance": []
    },
    "kernelspec": {
      "display_name": "Python 3",
      "name": "python3"
    },
    "language_info": {
      "name": "python"
    },
    "gpuClass": "standard"
  },
  "nbformat": 4,
  "nbformat_minor": 0
}